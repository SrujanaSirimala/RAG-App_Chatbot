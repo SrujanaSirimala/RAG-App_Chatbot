{
 "cells": [
  {
   "cell_type": "code",
   "execution_count": 32,
   "id": "27ff3d4d-6922-4f0c-8f1c-c7c96226324b",
   "metadata": {},
   "outputs": [
    {
     "name": "stdout",
     "output_type": "stream",
     "text": [
      "Requirement already satisfied: python-dotenv in c:\\users\\sruja\\anaconda3\\lib\\site-packages (0.21.0)\n"
     ]
    }
   ],
   "source": [
    "!pip install python-dotenv"
   ]
  },
  {
   "cell_type": "code",
   "execution_count": 33,
   "id": "633bd260-0874-43e4-bfd0-6e40b2596170",
   "metadata": {},
   "outputs": [
    {
     "name": "stdout",
     "output_type": "stream",
     "text": [
      "Note: you may need to restart the kernel to use updated packages.\n"
     ]
    }
   ],
   "source": [
    "%pip install --quiet --upgrade langchain-text-splitters langchain-community langgraph"
   ]
  },
  {
   "cell_type": "code",
   "execution_count": 35,
   "id": "0329038e-1707-46e5-8e9d-3bcdcd81f721",
   "metadata": {},
   "outputs": [
    {
     "name": "stdout",
     "output_type": "stream",
     "text": [
      "Keys loaded successfully!\n"
     ]
    }
   ],
   "source": [
    "from dotenv import load_dotenv\n",
    "import os\n",
    "\n",
    "load_dotenv()  # This loads variables from .env into environment\n",
    "\n",
    "# Now you can access them\n",
    "openai_api_key = os.getenv(\"OPENAI_API_KEY\")\n",
    "langsmith_api_key = os.getenv(\"LANGSMITH_API_KEY\")\n",
    "\n",
    "print(\"Keys loaded successfully!\")  # optional"
   ]
  },
  {
   "cell_type": "code",
   "execution_count": 38,
   "id": "e4760438-791b-4fc5-b83d-11b31accc2c0",
   "metadata": {},
   "outputs": [
    {
     "name": "stdout",
     "output_type": "stream",
     "text": [
      "Note: you may need to restart the kernel to use updated packages.\n"
     ]
    }
   ],
   "source": [
    "pip install -qU \"langchain[openai]\""
   ]
  },
  {
   "cell_type": "code",
   "execution_count": 40,
   "id": "7a4a384d-cb31-46f9-ae54-3e7731330e65",
   "metadata": {},
   "outputs": [],
   "source": [
    "from dotenv import load_dotenv\n",
    "import os\n",
    "\n",
    "load_dotenv()  # Loads API keys and env variables from .env\n",
    "\n",
    "from langchain.chat_models import init_chat_model\n",
    "\n",
    "llm = init_chat_model(\"gpt-4o-mini\", model_provider=\"openai\")"
   ]
  },
  {
   "cell_type": "code",
   "execution_count": 42,
   "id": "7b37561a-742e-437c-a773-be5e080bdccc",
   "metadata": {},
   "outputs": [
    {
     "name": "stdout",
     "output_type": "stream",
     "text": [
      "Note: you may need to restart the kernel to use updated packages.\n"
     ]
    }
   ],
   "source": [
    "pip install -qU langchain-openai"
   ]
  },
  {
   "cell_type": "code",
   "execution_count": 43,
   "id": "12de83cf-02d5-49da-8934-c242e8026806",
   "metadata": {},
   "outputs": [],
   "source": [
    "from dotenv import load_dotenv\n",
    "load_dotenv()\n",
    "\n",
    "from langchain_openai import OpenAIEmbeddings\n",
    "\n",
    "embeddings = OpenAIEmbeddings(model=\"text-embedding-3-large\")"
   ]
  },
  {
   "cell_type": "code",
   "execution_count": 44,
   "id": "63f9c136-327c-4016-8431-57aa01806576",
   "metadata": {},
   "outputs": [
    {
     "name": "stdout",
     "output_type": "stream",
     "text": [
      "Note: you may need to restart the kernel to use updated packages.\n"
     ]
    }
   ],
   "source": [
    "pip install -qU langchain-core"
   ]
  },
  {
   "cell_type": "code",
   "execution_count": 45,
   "id": "b3e3be05-78dd-4e88-8603-bafeaf9e6f14",
   "metadata": {},
   "outputs": [],
   "source": [
    "from langchain_core.vectorstores import InMemoryVectorStore\n",
    "\n",
    "vector_store = InMemoryVectorStore(embeddings)"
   ]
  },
  {
   "cell_type": "code",
   "execution_count": 46,
   "id": "b8d56e2b-7474-4ebe-a0be-43544bc38ac6",
   "metadata": {},
   "outputs": [
    {
     "name": "stdout",
     "output_type": "stream",
     "text": [
      "Requirement already satisfied: pypdf in c:\\users\\sruja\\anaconda3\\lib\\site-packages (5.4.0)\n"
     ]
    }
   ],
   "source": [
    "!pip install pypdf"
   ]
  },
  {
   "cell_type": "code",
   "execution_count": 47,
   "id": "61b83902-fe59-4552-9998-d2104de8a4a7",
   "metadata": {
    "scrolled": true
   },
   "outputs": [
    {
     "name": "stdout",
     "output_type": "stream",
     "text": [
      "Requirement already satisfied: langchain in c:\\users\\sruja\\anaconda3\\lib\\site-packages (0.3.23)\n",
      "Requirement already satisfied: langchainhub in c:\\users\\sruja\\anaconda3\\lib\\site-packages (0.1.21)\n",
      "Requirement already satisfied: langchain-community in c:\\users\\sruja\\anaconda3\\lib\\site-packages (0.3.21)\n",
      "Requirement already satisfied: pypdf in c:\\users\\sruja\\anaconda3\\lib\\site-packages (5.4.0)\n",
      "Requirement already satisfied: bs4 in c:\\users\\sruja\\anaconda3\\lib\\site-packages (0.0.2)\n",
      "Requirement already satisfied: langchain-core<1.0.0,>=0.3.51 in c:\\users\\sruja\\anaconda3\\lib\\site-packages (from langchain) (0.3.51)\n",
      "Requirement already satisfied: langchain-text-splitters<1.0.0,>=0.3.8 in c:\\users\\sruja\\anaconda3\\lib\\site-packages (from langchain) (0.3.8)\n",
      "Requirement already satisfied: langsmith<0.4,>=0.1.17 in c:\\users\\sruja\\anaconda3\\lib\\site-packages (from langchain) (0.3.23)\n",
      "Requirement already satisfied: pydantic<3.0.0,>=2.7.4 in c:\\users\\sruja\\anaconda3\\lib\\site-packages (from langchain) (2.11.3)\n",
      "Requirement already satisfied: SQLAlchemy<3,>=1.4 in c:\\users\\sruja\\anaconda3\\lib\\site-packages (from langchain) (2.0.34)\n",
      "Requirement already satisfied: requests<3,>=2 in c:\\users\\sruja\\anaconda3\\lib\\site-packages (from langchain) (2.32.3)\n",
      "Requirement already satisfied: PyYAML>=5.3 in c:\\users\\sruja\\anaconda3\\lib\\site-packages (from langchain) (6.0.1)\n",
      "Requirement already satisfied: packaging<25,>=23.2 in c:\\users\\sruja\\anaconda3\\lib\\site-packages (from langchainhub) (24.1)\n",
      "Requirement already satisfied: types-requests<3.0.0.0,>=2.31.0.2 in c:\\users\\sruja\\anaconda3\\lib\\site-packages (from langchainhub) (2.32.0.20250328)\n",
      "Requirement already satisfied: aiohttp<4.0.0,>=3.8.3 in c:\\users\\sruja\\anaconda3\\lib\\site-packages (from langchain-community) (3.10.5)\n",
      "Requirement already satisfied: tenacity!=8.4.0,<10,>=8.1.0 in c:\\users\\sruja\\anaconda3\\lib\\site-packages (from langchain-community) (8.2.3)\n",
      "Requirement already satisfied: dataclasses-json<0.7,>=0.5.7 in c:\\users\\sruja\\anaconda3\\lib\\site-packages (from langchain-community) (0.6.7)\n",
      "Requirement already satisfied: pydantic-settings<3.0.0,>=2.4.0 in c:\\users\\sruja\\anaconda3\\lib\\site-packages (from langchain-community) (2.8.1)\n",
      "Requirement already satisfied: httpx-sse<1.0.0,>=0.4.0 in c:\\users\\sruja\\anaconda3\\lib\\site-packages (from langchain-community) (0.4.0)\n",
      "Requirement already satisfied: numpy<3,>=1.26.2 in c:\\users\\sruja\\anaconda3\\lib\\site-packages (from langchain-community) (1.26.4)\n",
      "Requirement already satisfied: beautifulsoup4 in c:\\users\\sruja\\anaconda3\\lib\\site-packages (from bs4) (4.12.3)\n",
      "Requirement already satisfied: aiohappyeyeballs>=2.3.0 in c:\\users\\sruja\\anaconda3\\lib\\site-packages (from aiohttp<4.0.0,>=3.8.3->langchain-community) (2.4.0)\n",
      "Requirement already satisfied: aiosignal>=1.1.2 in c:\\users\\sruja\\anaconda3\\lib\\site-packages (from aiohttp<4.0.0,>=3.8.3->langchain-community) (1.2.0)\n",
      "Requirement already satisfied: attrs>=17.3.0 in c:\\users\\sruja\\anaconda3\\lib\\site-packages (from aiohttp<4.0.0,>=3.8.3->langchain-community) (23.1.0)\n",
      "Requirement already satisfied: frozenlist>=1.1.1 in c:\\users\\sruja\\anaconda3\\lib\\site-packages (from aiohttp<4.0.0,>=3.8.3->langchain-community) (1.4.0)\n",
      "Requirement already satisfied: multidict<7.0,>=4.5 in c:\\users\\sruja\\anaconda3\\lib\\site-packages (from aiohttp<4.0.0,>=3.8.3->langchain-community) (6.0.4)\n",
      "Requirement already satisfied: yarl<2.0,>=1.0 in c:\\users\\sruja\\anaconda3\\lib\\site-packages (from aiohttp<4.0.0,>=3.8.3->langchain-community) (1.11.0)\n",
      "Requirement already satisfied: marshmallow<4.0.0,>=3.18.0 in c:\\users\\sruja\\anaconda3\\lib\\site-packages (from dataclasses-json<0.7,>=0.5.7->langchain-community) (3.26.1)\n",
      "Requirement already satisfied: typing-inspect<1,>=0.4.0 in c:\\users\\sruja\\anaconda3\\lib\\site-packages (from dataclasses-json<0.7,>=0.5.7->langchain-community) (0.9.0)\n",
      "Requirement already satisfied: jsonpatch<2.0,>=1.33 in c:\\users\\sruja\\anaconda3\\lib\\site-packages (from langchain-core<1.0.0,>=0.3.51->langchain) (1.33)\n",
      "Requirement already satisfied: typing-extensions>=4.7 in c:\\users\\sruja\\anaconda3\\lib\\site-packages (from langchain-core<1.0.0,>=0.3.51->langchain) (4.13.2)\n",
      "Requirement already satisfied: httpx<1,>=0.23.0 in c:\\users\\sruja\\anaconda3\\lib\\site-packages (from langsmith<0.4,>=0.1.17->langchain) (0.27.0)\n",
      "Requirement already satisfied: orjson<4.0.0,>=3.9.14 in c:\\users\\sruja\\anaconda3\\lib\\site-packages (from langsmith<0.4,>=0.1.17->langchain) (3.10.16)\n",
      "Requirement already satisfied: requests-toolbelt<2.0.0,>=1.0.0 in c:\\users\\sruja\\anaconda3\\lib\\site-packages (from langsmith<0.4,>=0.1.17->langchain) (1.0.0)\n",
      "Requirement already satisfied: zstandard<0.24.0,>=0.23.0 in c:\\users\\sruja\\anaconda3\\lib\\site-packages (from langsmith<0.4,>=0.1.17->langchain) (0.23.0)\n",
      "Requirement already satisfied: annotated-types>=0.6.0 in c:\\users\\sruja\\anaconda3\\lib\\site-packages (from pydantic<3.0.0,>=2.7.4->langchain) (0.6.0)\n",
      "Requirement already satisfied: pydantic-core==2.33.1 in c:\\users\\sruja\\anaconda3\\lib\\site-packages (from pydantic<3.0.0,>=2.7.4->langchain) (2.33.1)\n",
      "Requirement already satisfied: typing-inspection>=0.4.0 in c:\\users\\sruja\\anaconda3\\lib\\site-packages (from pydantic<3.0.0,>=2.7.4->langchain) (0.4.0)\n",
      "Requirement already satisfied: python-dotenv>=0.21.0 in c:\\users\\sruja\\anaconda3\\lib\\site-packages (from pydantic-settings<3.0.0,>=2.4.0->langchain-community) (0.21.0)\n",
      "Requirement already satisfied: charset-normalizer<4,>=2 in c:\\users\\sruja\\anaconda3\\lib\\site-packages (from requests<3,>=2->langchain) (3.3.2)\n",
      "Requirement already satisfied: idna<4,>=2.5 in c:\\users\\sruja\\anaconda3\\lib\\site-packages (from requests<3,>=2->langchain) (3.7)\n",
      "Requirement already satisfied: urllib3<3,>=1.21.1 in c:\\users\\sruja\\anaconda3\\lib\\site-packages (from requests<3,>=2->langchain) (2.2.3)\n",
      "Requirement already satisfied: certifi>=2017.4.17 in c:\\users\\sruja\\anaconda3\\lib\\site-packages (from requests<3,>=2->langchain) (2025.1.31)\n",
      "Requirement already satisfied: greenlet!=0.4.17 in c:\\users\\sruja\\anaconda3\\lib\\site-packages (from SQLAlchemy<3,>=1.4->langchain) (3.0.1)\n",
      "Requirement already satisfied: soupsieve>1.2 in c:\\users\\sruja\\anaconda3\\lib\\site-packages (from beautifulsoup4->bs4) (2.5)\n",
      "Requirement already satisfied: anyio in c:\\users\\sruja\\anaconda3\\lib\\site-packages (from httpx<1,>=0.23.0->langsmith<0.4,>=0.1.17->langchain) (4.2.0)\n",
      "Requirement already satisfied: httpcore==1.* in c:\\users\\sruja\\anaconda3\\lib\\site-packages (from httpx<1,>=0.23.0->langsmith<0.4,>=0.1.17->langchain) (1.0.2)\n",
      "Requirement already satisfied: sniffio in c:\\users\\sruja\\anaconda3\\lib\\site-packages (from httpx<1,>=0.23.0->langsmith<0.4,>=0.1.17->langchain) (1.3.0)\n",
      "Requirement already satisfied: h11<0.15,>=0.13 in c:\\users\\sruja\\anaconda3\\lib\\site-packages (from httpcore==1.*->httpx<1,>=0.23.0->langsmith<0.4,>=0.1.17->langchain) (0.14.0)\n",
      "Requirement already satisfied: jsonpointer>=1.9 in c:\\users\\sruja\\anaconda3\\lib\\site-packages (from jsonpatch<2.0,>=1.33->langchain-core<1.0.0,>=0.3.51->langchain) (2.1)\n",
      "Requirement already satisfied: mypy-extensions>=0.3.0 in c:\\users\\sruja\\anaconda3\\lib\\site-packages (from typing-inspect<1,>=0.4.0->dataclasses-json<0.7,>=0.5.7->langchain-community) (1.0.0)\n",
      "Note: you may need to restart the kernel to use updated packages.\n"
     ]
    }
   ],
   "source": [
    "pip install langchain langchainhub langchain-community pypdf bs4\n"
   ]
  },
  {
   "cell_type": "code",
   "execution_count": 48,
   "id": "d2dfbe33-8e96-4b78-9d98-903820d0b86b",
   "metadata": {
    "scrolled": true
   },
   "outputs": [
    {
     "name": "stdout",
     "output_type": "stream",
     "text": [
      "\n",
      "📘 Final Answer:\n",
      "The central theme of the story in \"A World is Born\" is the tension and conflict between individuals seeking to rebuild and establish a new world against those who are selfish and resentful of the effort.\n"
     ]
    }
   ],
   "source": [
    "# === IMPORTS ===\n",
    "import requests\n",
    "import tempfile\n",
    "import os\n",
    "import logging\n",
    "import sys\n",
    "from langchain_community.document_loaders import PyPDFLoader\n",
    "from langchain_text_splitters import RecursiveCharacterTextSplitter\n",
    "from langchain_community.vectorstores import FAISS\n",
    "from langchain_community.embeddings import OpenAIEmbeddings\n",
    "from langchain_core.documents import Document\n",
    "from langgraph.graph import StateGraph\n",
    "from typing_extensions import TypedDict, List\n",
    "from langchain_openai import ChatOpenAI\n",
    "from langchain_core.prompts import ChatPromptTemplate\n",
    "\n",
    "# === DISABLE LOGGING ===\n",
    "logging.getLogger().handlers.clear()\n",
    "logging.basicConfig(level=logging.CRITICAL)\n",
    "\n",
    "# === STEP 1: Download PDF ===\n",
    "pdf_url = \"https://github.com/SrujanaSirimala/Ebook/raw/main/A%20World%20is%20Born.pdf\"\n",
    "temp_dir = tempfile.mkdtemp()\n",
    "pdf_path = os.path.join(temp_dir, \"ebook.pdf\")\n",
    "response = requests.get(pdf_url)\n",
    "with open(pdf_path, \"wb\") as f:\n",
    "    f.write(response.content)\n",
    "\n",
    "# === STEP 2: Load & Chunk PDF ===\n",
    "loader = PyPDFLoader(pdf_path)\n",
    "docs = loader.load()\n",
    "\n",
    "text_splitter = RecursiveCharacterTextSplitter(chunk_size=1000, chunk_overlap=200)\n",
    "all_splits = text_splitter.split_documents(docs)\n",
    "\n",
    "# === CLEAN TEXT ===\n",
    "def clean_text(text):\n",
    "    return text.encode(\"utf-8\", errors=\"ignore\").decode(\"utf-8\")\n",
    "\n",
    "for doc in all_splits:\n",
    "    doc.page_content = clean_text(doc.page_content)\n",
    "\n",
    "# === STEP 3: Embed & Index ===\n",
    "embedding = OpenAIEmbeddings()\n",
    "vector_store = FAISS.from_documents(all_splits, embedding)\n",
    "\n",
    "# === STEP 4: Define Prompt & LLM ===\n",
    "prompt = ChatPromptTemplate.from_messages([\n",
    "    (\"system\", \"Answer the question using only the context below.\"),\n",
    "    (\"human\", \"Context:\\n{context}\\n\\nQuestion: {question}\")\n",
    "])\n",
    "\n",
    "llm = ChatOpenAI()\n",
    "\n",
    "# === STEP 5: State ===\n",
    "class State(TypedDict):\n",
    "    question: str\n",
    "    context: List[Document]\n",
    "    answer: str\n",
    "\n",
    "# === STEP 6: RAG Steps ===\n",
    "def retrieve(state: State):\n",
    "    return {\"context\": vector_store.similarity_search(state[\"question\"])}\n",
    "\n",
    "def generate(state: State):\n",
    "    docs_content = \"\\n\\n\".join(doc.page_content for doc in state[\"context\"])\n",
    "    try:\n",
    "        messages = prompt.invoke({\"question\": state[\"question\"], \"context\": docs_content})\n",
    "        response = llm.invoke(messages)\n",
    "        return {\"answer\": response.content}\n",
    "    except Exception as e:\n",
    "        return {\"answer\": f\"❌ LLM Error: {str(e)}\"}\n",
    "\n",
    "# === STEP 7: Graph ===\n",
    "graph_builder = StateGraph(State)\n",
    "graph_builder.add_node(\"retrieve\", retrieve)\n",
    "graph_builder.add_node(\"generate\", generate)\n",
    "graph_builder.set_entry_point(\"retrieve\")\n",
    "graph_builder.add_edge(\"retrieve\", \"generate\")\n",
    "graph = graph_builder.compile()\n",
    "\n",
    "# === STEP 8: Ask a Question ===\n",
    "question = \"What is the central theme of the story in 'A World is Born'?\"\n",
    "result = graph.invoke({\"question\": question})\n",
    "\n",
    "# === STEP 9: Final Output ===\n",
    "final_answer = result.get(\"answer\", \"\").strip()\n",
    "print(\"\\n📘 Final Answer:\\n\" + final_answer)\n"
   ]
  },
  {
   "cell_type": "code",
   "execution_count": 49,
   "id": "edc6ae65-4014-4d65-ae64-f8617eec9710",
   "metadata": {
    "scrolled": true
   },
   "outputs": [
    {
     "name": "stdout",
     "output_type": "stream",
     "text": [
      "Requirement already satisfied: unstructured[pdf] in c:\\users\\sruja\\anaconda3\\lib\\site-packages (0.17.2)Note: you may need to restart the kernel to use updated packages.\n",
      "\n",
      "Requirement already satisfied: chardet in c:\\users\\sruja\\anaconda3\\lib\\site-packages (from unstructured[pdf]) (4.0.0)\n",
      "Requirement already satisfied: filetype in c:\\users\\sruja\\anaconda3\\lib\\site-packages (from unstructured[pdf]) (1.2.0)\n",
      "Requirement already satisfied: python-magic in c:\\users\\sruja\\anaconda3\\lib\\site-packages (from unstructured[pdf]) (0.4.27)\n",
      "Requirement already satisfied: lxml in c:\\users\\sruja\\anaconda3\\lib\\site-packages (from unstructured[pdf]) (5.2.1)\n",
      "Requirement already satisfied: nltk in c:\\users\\sruja\\anaconda3\\lib\\site-packages (from unstructured[pdf]) (3.9.1)\n",
      "Requirement already satisfied: requests in c:\\users\\sruja\\anaconda3\\lib\\site-packages (from unstructured[pdf]) (2.32.3)\n",
      "Requirement already satisfied: beautifulsoup4 in c:\\users\\sruja\\anaconda3\\lib\\site-packages (from unstructured[pdf]) (4.12.3)\n",
      "Requirement already satisfied: emoji in c:\\users\\sruja\\anaconda3\\lib\\site-packages (from unstructured[pdf]) (2.14.1)\n",
      "Requirement already satisfied: dataclasses-json in c:\\users\\sruja\\anaconda3\\lib\\site-packages (from unstructured[pdf]) (0.6.7)\n",
      "Requirement already satisfied: python-iso639 in c:\\users\\sruja\\anaconda3\\lib\\site-packages (from unstructured[pdf]) (2025.2.18)\n",
      "Requirement already satisfied: langdetect in c:\\users\\sruja\\anaconda3\\lib\\site-packages (from unstructured[pdf]) (1.0.9)\n",
      "Requirement already satisfied: numpy in c:\\users\\sruja\\anaconda3\\lib\\site-packages (from unstructured[pdf]) (1.26.4)\n",
      "Requirement already satisfied: rapidfuzz in c:\\users\\sruja\\anaconda3\\lib\\site-packages (from unstructured[pdf]) (3.13.0)\n",
      "Requirement already satisfied: backoff in c:\\users\\sruja\\anaconda3\\lib\\site-packages (from unstructured[pdf]) (2.2.1)\n",
      "Requirement already satisfied: typing-extensions in c:\\users\\sruja\\anaconda3\\lib\\site-packages (from unstructured[pdf]) (4.13.2)\n",
      "Requirement already satisfied: unstructured-client in c:\\users\\sruja\\anaconda3\\lib\\site-packages (from unstructured[pdf]) (0.32.3)\n",
      "Requirement already satisfied: wrapt in c:\\users\\sruja\\anaconda3\\lib\\site-packages (from unstructured[pdf]) (1.14.1)\n",
      "Requirement already satisfied: tqdm in c:\\users\\sruja\\anaconda3\\lib\\site-packages (from unstructured[pdf]) (4.66.5)\n",
      "Requirement already satisfied: psutil in c:\\users\\sruja\\anaconda3\\lib\\site-packages (from unstructured[pdf]) (5.9.0)\n",
      "Requirement already satisfied: python-oxmsg in c:\\users\\sruja\\anaconda3\\lib\\site-packages (from unstructured[pdf]) (0.0.2)\n",
      "Requirement already satisfied: html5lib in c:\\users\\sruja\\anaconda3\\lib\\site-packages (from unstructured[pdf]) (1.1)\n",
      "Requirement already satisfied: onnx>=1.17.0 in c:\\users\\sruja\\anaconda3\\lib\\site-packages (from unstructured[pdf]) (1.17.0)\n",
      "Requirement already satisfied: onnxruntime>=1.19.0 in c:\\users\\sruja\\anaconda3\\lib\\site-packages (from unstructured[pdf]) (1.21.0)\n",
      "Requirement already satisfied: pdf2image in c:\\users\\sruja\\anaconda3\\lib\\site-packages (from unstructured[pdf]) (1.17.0)\n",
      "Requirement already satisfied: pdfminer.six in c:\\users\\sruja\\anaconda3\\lib\\site-packages (from unstructured[pdf]) (20250327)\n",
      "Requirement already satisfied: pikepdf in c:\\users\\sruja\\anaconda3\\lib\\site-packages (from unstructured[pdf]) (9.7.0)\n",
      "Requirement already satisfied: pi-heif in c:\\users\\sruja\\anaconda3\\lib\\site-packages (from unstructured[pdf]) (0.22.0)\n",
      "Requirement already satisfied: pypdf in c:\\users\\sruja\\anaconda3\\lib\\site-packages (from unstructured[pdf]) (5.4.0)\n",
      "Requirement already satisfied: google-cloud-vision in c:\\users\\sruja\\anaconda3\\lib\\site-packages (from unstructured[pdf]) (3.10.1)\n",
      "Requirement already satisfied: effdet in c:\\users\\sruja\\anaconda3\\lib\\site-packages (from unstructured[pdf]) (0.4.1)\n",
      "Requirement already satisfied: unstructured-inference>=0.8.10 in c:\\users\\sruja\\anaconda3\\lib\\site-packages (from unstructured[pdf]) (0.8.10)\n",
      "Requirement already satisfied: unstructured.pytesseract>=0.3.12 in c:\\users\\sruja\\anaconda3\\lib\\site-packages (from unstructured[pdf]) (0.3.15)\n",
      "Requirement already satisfied: protobuf>=3.20.2 in c:\\users\\sruja\\anaconda3\\lib\\site-packages (from onnx>=1.17.0->unstructured[pdf]) (5.29.4)\n",
      "Requirement already satisfied: coloredlogs in c:\\users\\sruja\\anaconda3\\lib\\site-packages (from onnxruntime>=1.19.0->unstructured[pdf]) (15.0.1)\n",
      "Requirement already satisfied: flatbuffers in c:\\users\\sruja\\anaconda3\\lib\\site-packages (from onnxruntime>=1.19.0->unstructured[pdf]) (25.2.10)\n",
      "Requirement already satisfied: packaging in c:\\users\\sruja\\anaconda3\\lib\\site-packages (from onnxruntime>=1.19.0->unstructured[pdf]) (24.1)\n",
      "Requirement already satisfied: sympy in c:\\users\\sruja\\anaconda3\\lib\\site-packages (from onnxruntime>=1.19.0->unstructured[pdf]) (1.13.1)\n",
      "Requirement already satisfied: python-multipart in c:\\users\\sruja\\anaconda3\\lib\\site-packages (from unstructured-inference>=0.8.10->unstructured[pdf]) (0.0.20)\n",
      "Requirement already satisfied: huggingface-hub in c:\\users\\sruja\\anaconda3\\lib\\site-packages (from unstructured-inference>=0.8.10->unstructured[pdf]) (0.30.2)\n",
      "Requirement already satisfied: opencv-python!=4.7.0.68 in c:\\users\\sruja\\anaconda3\\lib\\site-packages (from unstructured-inference>=0.8.10->unstructured[pdf]) (4.11.0.86)\n",
      "Requirement already satisfied: matplotlib in c:\\users\\sruja\\anaconda3\\lib\\site-packages (from unstructured-inference>=0.8.10->unstructured[pdf]) (3.9.2)\n",
      "Requirement already satisfied: torch in c:\\users\\sruja\\anaconda3\\lib\\site-packages (from unstructured-inference>=0.8.10->unstructured[pdf]) (2.6.0)\n",
      "Requirement already satisfied: timm in c:\\users\\sruja\\anaconda3\\lib\\site-packages (from unstructured-inference>=0.8.10->unstructured[pdf]) (1.0.15)\n",
      "Requirement already satisfied: transformers>=4.25.1 in c:\\users\\sruja\\anaconda3\\lib\\site-packages (from unstructured-inference>=0.8.10->unstructured[pdf]) (4.51.2)\n",
      "Requirement already satisfied: pandas in c:\\users\\sruja\\anaconda3\\lib\\site-packages (from unstructured-inference>=0.8.10->unstructured[pdf]) (2.2.2)\n",
      "Requirement already satisfied: scipy in c:\\users\\sruja\\anaconda3\\lib\\site-packages (from unstructured-inference>=0.8.10->unstructured[pdf]) (1.13.1)\n",
      "Requirement already satisfied: pypdfium2 in c:\\users\\sruja\\anaconda3\\lib\\site-packages (from unstructured-inference>=0.8.10->unstructured[pdf]) (4.30.1)\n",
      "Requirement already satisfied: Pillow>=8.0.0 in c:\\users\\sruja\\anaconda3\\lib\\site-packages (from unstructured.pytesseract>=0.3.12->unstructured[pdf]) (10.4.0)\n",
      "Requirement already satisfied: soupsieve>1.2 in c:\\users\\sruja\\anaconda3\\lib\\site-packages (from beautifulsoup4->unstructured[pdf]) (2.5)\n",
      "Requirement already satisfied: marshmallow<4.0.0,>=3.18.0 in c:\\users\\sruja\\anaconda3\\lib\\site-packages (from dataclasses-json->unstructured[pdf]) (3.26.1)\n",
      "Requirement already satisfied: typing-inspect<1,>=0.4.0 in c:\\users\\sruja\\anaconda3\\lib\\site-packages (from dataclasses-json->unstructured[pdf]) (0.9.0)\n",
      "Requirement already satisfied: torchvision in c:\\users\\sruja\\anaconda3\\lib\\site-packages (from effdet->unstructured[pdf]) (0.21.0)\n",
      "Requirement already satisfied: pycocotools>=2.0.2 in c:\\users\\sruja\\anaconda3\\lib\\site-packages (from effdet->unstructured[pdf]) (2.0.8)\n",
      "Requirement already satisfied: omegaconf>=2.0 in c:\\users\\sruja\\anaconda3\\lib\\site-packages (from effdet->unstructured[pdf]) (2.3.0)\n",
      "Requirement already satisfied: google-api-core!=2.0.*,!=2.1.*,!=2.10.*,!=2.2.*,!=2.3.*,!=2.4.*,!=2.5.*,!=2.6.*,!=2.7.*,!=2.8.*,!=2.9.*,<3.0.0,>=1.34.1 in c:\\users\\sruja\\anaconda3\\lib\\site-packages (from google-api-core[grpc]!=2.0.*,!=2.1.*,!=2.10.*,!=2.2.*,!=2.3.*,!=2.4.*,!=2.5.*,!=2.6.*,!=2.7.*,!=2.8.*,!=2.9.*,<3.0.0,>=1.34.1->google-cloud-vision->unstructured[pdf]) (2.24.2)\n",
      "Requirement already satisfied: google-auth!=2.24.0,!=2.25.0,<3.0.0,>=2.14.1 in c:\\users\\sruja\\anaconda3\\lib\\site-packages (from google-cloud-vision->unstructured[pdf]) (2.38.0)\n",
      "Requirement already satisfied: proto-plus<2.0.0,>=1.22.3 in c:\\users\\sruja\\anaconda3\\lib\\site-packages (from google-cloud-vision->unstructured[pdf]) (1.26.1)\n",
      "Requirement already satisfied: six>=1.9 in c:\\users\\sruja\\anaconda3\\lib\\site-packages (from html5lib->unstructured[pdf]) (1.16.0)\n",
      "Requirement already satisfied: webencodings in c:\\users\\sruja\\anaconda3\\lib\\site-packages (from html5lib->unstructured[pdf]) (0.5.1)\n",
      "Requirement already satisfied: click in c:\\users\\sruja\\anaconda3\\lib\\site-packages (from nltk->unstructured[pdf]) (8.1.7)\n",
      "Requirement already satisfied: joblib in c:\\users\\sruja\\anaconda3\\lib\\site-packages (from nltk->unstructured[pdf]) (1.4.2)\n",
      "Requirement already satisfied: regex>=2021.8.3 in c:\\users\\sruja\\anaconda3\\lib\\site-packages (from nltk->unstructured[pdf]) (2024.9.11)\n",
      "Requirement already satisfied: charset-normalizer>=2.0.0 in c:\\users\\sruja\\anaconda3\\lib\\site-packages (from pdfminer.six->unstructured[pdf]) (3.3.2)\n",
      "Requirement already satisfied: cryptography>=36.0.0 in c:\\users\\sruja\\anaconda3\\lib\\site-packages (from pdfminer.six->unstructured[pdf]) (43.0.0)\n",
      "Requirement already satisfied: Deprecated in c:\\users\\sruja\\anaconda3\\lib\\site-packages (from pikepdf->unstructured[pdf]) (1.2.18)\n",
      "Requirement already satisfied: olefile in c:\\users\\sruja\\anaconda3\\lib\\site-packages (from python-oxmsg->unstructured[pdf]) (0.47)\n",
      "Requirement already satisfied: idna<4,>=2.5 in c:\\users\\sruja\\anaconda3\\lib\\site-packages (from requests->unstructured[pdf]) (3.7)\n",
      "Requirement already satisfied: urllib3<3,>=1.21.1 in c:\\users\\sruja\\anaconda3\\lib\\site-packages (from requests->unstructured[pdf]) (2.2.3)\n",
      "Requirement already satisfied: certifi>=2017.4.17 in c:\\users\\sruja\\anaconda3\\lib\\site-packages (from requests->unstructured[pdf]) (2025.1.31)\n",
      "Requirement already satisfied: colorama in c:\\users\\sruja\\anaconda3\\lib\\site-packages (from tqdm->unstructured[pdf]) (0.4.6)\n",
      "Requirement already satisfied: aiofiles>=24.1.0 in c:\\users\\sruja\\anaconda3\\lib\\site-packages (from unstructured-client->unstructured[pdf]) (24.1.0)\n",
      "Requirement already satisfied: eval-type-backport>=0.2.0 in c:\\users\\sruja\\anaconda3\\lib\\site-packages (from unstructured-client->unstructured[pdf]) (0.2.2)\n",
      "Requirement already satisfied: httpx>=0.27.0 in c:\\users\\sruja\\anaconda3\\lib\\site-packages (from unstructured-client->unstructured[pdf]) (0.27.0)\n",
      "Requirement already satisfied: nest-asyncio>=1.6.0 in c:\\users\\sruja\\anaconda3\\lib\\site-packages (from unstructured-client->unstructured[pdf]) (1.6.0)\n",
      "Requirement already satisfied: pydantic>=2.10.3 in c:\\users\\sruja\\anaconda3\\lib\\site-packages (from unstructured-client->unstructured[pdf]) (2.11.3)\n",
      "Requirement already satisfied: python-dateutil>=2.8.2 in c:\\users\\sruja\\anaconda3\\lib\\site-packages (from unstructured-client->unstructured[pdf]) (2.9.0.post0)\n",
      "Requirement already satisfied: requests-toolbelt>=1.0.0 in c:\\users\\sruja\\anaconda3\\lib\\site-packages (from unstructured-client->unstructured[pdf]) (1.0.0)\n",
      "Requirement already satisfied: typing-inspection>=0.4.0 in c:\\users\\sruja\\anaconda3\\lib\\site-packages (from unstructured-client->unstructured[pdf]) (0.4.0)\n",
      "Requirement already satisfied: cffi>=1.12 in c:\\users\\sruja\\anaconda3\\lib\\site-packages (from cryptography>=36.0.0->pdfminer.six->unstructured[pdf]) (1.17.1)\n",
      "Requirement already satisfied: googleapis-common-protos<2.0.0,>=1.56.2 in c:\\users\\sruja\\anaconda3\\lib\\site-packages (from google-api-core!=2.0.*,!=2.1.*,!=2.10.*,!=2.2.*,!=2.3.*,!=2.4.*,!=2.5.*,!=2.6.*,!=2.7.*,!=2.8.*,!=2.9.*,<3.0.0,>=1.34.1->google-api-core[grpc]!=2.0.*,!=2.1.*,!=2.10.*,!=2.2.*,!=2.3.*,!=2.4.*,!=2.5.*,!=2.6.*,!=2.7.*,!=2.8.*,!=2.9.*,<3.0.0,>=1.34.1->google-cloud-vision->unstructured[pdf]) (1.69.2)\n",
      "Requirement already satisfied: grpcio<2.0dev,>=1.33.2 in c:\\users\\sruja\\anaconda3\\lib\\site-packages (from google-api-core[grpc]!=2.0.*,!=2.1.*,!=2.10.*,!=2.2.*,!=2.3.*,!=2.4.*,!=2.5.*,!=2.6.*,!=2.7.*,!=2.8.*,!=2.9.*,<3.0.0,>=1.34.1->google-cloud-vision->unstructured[pdf]) (1.71.0)\n",
      "Requirement already satisfied: grpcio-status<2.0.dev0,>=1.33.2 in c:\\users\\sruja\\anaconda3\\lib\\site-packages (from google-api-core[grpc]!=2.0.*,!=2.1.*,!=2.10.*,!=2.2.*,!=2.3.*,!=2.4.*,!=2.5.*,!=2.6.*,!=2.7.*,!=2.8.*,!=2.9.*,<3.0.0,>=1.34.1->google-cloud-vision->unstructured[pdf]) (1.71.0)\n",
      "Requirement already satisfied: cachetools<6.0,>=2.0.0 in c:\\users\\sruja\\anaconda3\\lib\\site-packages (from google-auth!=2.24.0,!=2.25.0,<3.0.0,>=2.14.1->google-cloud-vision->unstructured[pdf]) (5.3.3)\n",
      "Requirement already satisfied: pyasn1-modules>=0.2.1 in c:\\users\\sruja\\anaconda3\\lib\\site-packages (from google-auth!=2.24.0,!=2.25.0,<3.0.0,>=2.14.1->google-cloud-vision->unstructured[pdf]) (0.2.8)\n",
      "Requirement already satisfied: rsa<5,>=3.1.4 in c:\\users\\sruja\\anaconda3\\lib\\site-packages (from google-auth!=2.24.0,!=2.25.0,<3.0.0,>=2.14.1->google-cloud-vision->unstructured[pdf]) (4.9)\n",
      "Requirement already satisfied: anyio in c:\\users\\sruja\\anaconda3\\lib\\site-packages (from httpx>=0.27.0->unstructured-client->unstructured[pdf]) (4.2.0)\n",
      "Requirement already satisfied: httpcore==1.* in c:\\users\\sruja\\anaconda3\\lib\\site-packages (from httpx>=0.27.0->unstructured-client->unstructured[pdf]) (1.0.2)\n",
      "Requirement already satisfied: sniffio in c:\\users\\sruja\\anaconda3\\lib\\site-packages (from httpx>=0.27.0->unstructured-client->unstructured[pdf]) (1.3.0)\n",
      "Requirement already satisfied: h11<0.15,>=0.13 in c:\\users\\sruja\\anaconda3\\lib\\site-packages (from httpcore==1.*->httpx>=0.27.0->unstructured-client->unstructured[pdf]) (0.14.0)\n",
      "Requirement already satisfied: antlr4-python3-runtime==4.9.* in c:\\users\\sruja\\anaconda3\\lib\\site-packages (from omegaconf>=2.0->effdet->unstructured[pdf]) (4.9.3)\n",
      "Requirement already satisfied: PyYAML>=5.1.0 in c:\\users\\sruja\\anaconda3\\lib\\site-packages (from omegaconf>=2.0->effdet->unstructured[pdf]) (6.0.1)\n",
      "Requirement already satisfied: contourpy>=1.0.1 in c:\\users\\sruja\\anaconda3\\lib\\site-packages (from matplotlib->unstructured-inference>=0.8.10->unstructured[pdf]) (1.2.0)\n",
      "Requirement already satisfied: cycler>=0.10 in c:\\users\\sruja\\anaconda3\\lib\\site-packages (from matplotlib->unstructured-inference>=0.8.10->unstructured[pdf]) (0.11.0)\n",
      "Requirement already satisfied: fonttools>=4.22.0 in c:\\users\\sruja\\anaconda3\\lib\\site-packages (from matplotlib->unstructured-inference>=0.8.10->unstructured[pdf]) (4.51.0)\n",
      "Requirement already satisfied: kiwisolver>=1.3.1 in c:\\users\\sruja\\anaconda3\\lib\\site-packages (from matplotlib->unstructured-inference>=0.8.10->unstructured[pdf]) (1.4.4)\n",
      "Requirement already satisfied: pyparsing>=2.3.1 in c:\\users\\sruja\\anaconda3\\lib\\site-packages (from matplotlib->unstructured-inference>=0.8.10->unstructured[pdf]) (3.1.2)\n",
      "Requirement already satisfied: annotated-types>=0.6.0 in c:\\users\\sruja\\anaconda3\\lib\\site-packages (from pydantic>=2.10.3->unstructured-client->unstructured[pdf]) (0.6.0)\n",
      "Requirement already satisfied: pydantic-core==2.33.1 in c:\\users\\sruja\\anaconda3\\lib\\site-packages (from pydantic>=2.10.3->unstructured-client->unstructured[pdf]) (2.33.1)\n",
      "Requirement already satisfied: safetensors in c:\\users\\sruja\\anaconda3\\lib\\site-packages (from timm->unstructured-inference>=0.8.10->unstructured[pdf]) (0.5.3)\n",
      "Requirement already satisfied: filelock in c:\\users\\sruja\\anaconda3\\lib\\site-packages (from torch->unstructured-inference>=0.8.10->unstructured[pdf]) (3.13.1)\n",
      "Requirement already satisfied: networkx in c:\\users\\sruja\\anaconda3\\lib\\site-packages (from torch->unstructured-inference>=0.8.10->unstructured[pdf]) (3.3)\n",
      "Requirement already satisfied: jinja2 in c:\\users\\sruja\\anaconda3\\lib\\site-packages (from torch->unstructured-inference>=0.8.10->unstructured[pdf]) (3.1.4)\n",
      "Requirement already satisfied: fsspec in c:\\users\\sruja\\anaconda3\\lib\\site-packages (from torch->unstructured-inference>=0.8.10->unstructured[pdf]) (2024.6.1)\n",
      "Requirement already satisfied: setuptools in c:\\users\\sruja\\anaconda3\\lib\\site-packages (from torch->unstructured-inference>=0.8.10->unstructured[pdf]) (75.1.0)\n",
      "Requirement already satisfied: mpmath<1.4,>=1.1.0 in c:\\users\\sruja\\anaconda3\\lib\\site-packages (from sympy->onnxruntime>=1.19.0->unstructured[pdf]) (1.3.0)\n",
      "Requirement already satisfied: tokenizers<0.22,>=0.21 in c:\\users\\sruja\\anaconda3\\lib\\site-packages (from transformers>=4.25.1->unstructured-inference>=0.8.10->unstructured[pdf]) (0.21.1)\n",
      "Requirement already satisfied: mypy-extensions>=0.3.0 in c:\\users\\sruja\\anaconda3\\lib\\site-packages (from typing-inspect<1,>=0.4.0->dataclasses-json->unstructured[pdf]) (1.0.0)\n",
      "Requirement already satisfied: humanfriendly>=9.1 in c:\\users\\sruja\\anaconda3\\lib\\site-packages (from coloredlogs->onnxruntime>=1.19.0->unstructured[pdf]) (10.0)\n",
      "Requirement already satisfied: pytz>=2020.1 in c:\\users\\sruja\\anaconda3\\lib\\site-packages (from pandas->unstructured-inference>=0.8.10->unstructured[pdf]) (2024.1)\n",
      "Requirement already satisfied: tzdata>=2022.7 in c:\\users\\sruja\\anaconda3\\lib\\site-packages (from pandas->unstructured-inference>=0.8.10->unstructured[pdf]) (2023.3)\n",
      "Requirement already satisfied: pycparser in c:\\users\\sruja\\anaconda3\\lib\\site-packages (from cffi>=1.12->cryptography>=36.0.0->pdfminer.six->unstructured[pdf]) (2.21)\n",
      "Requirement already satisfied: pyreadline3 in c:\\users\\sruja\\anaconda3\\lib\\site-packages (from humanfriendly>=9.1->coloredlogs->onnxruntime>=1.19.0->unstructured[pdf]) (3.5.4)\n",
      "Requirement already satisfied: pyasn1<0.5.0,>=0.4.6 in c:\\users\\sruja\\anaconda3\\lib\\site-packages (from pyasn1-modules>=0.2.1->google-auth!=2.24.0,!=2.25.0,<3.0.0,>=2.14.1->google-cloud-vision->unstructured[pdf]) (0.4.8)\n",
      "Requirement already satisfied: MarkupSafe>=2.0 in c:\\users\\sruja\\anaconda3\\lib\\site-packages (from jinja2->torch->unstructured-inference>=0.8.10->unstructured[pdf]) (2.1.3)\n"
     ]
    }
   ],
   "source": [
    "pip install unstructured[pdf]"
   ]
  },
  {
   "cell_type": "code",
   "execution_count": 50,
   "id": "193d99e3-d0fd-40ca-b08a-d909393d69ea",
   "metadata": {
    "scrolled": true
   },
   "outputs": [
    {
     "name": "stdout",
     "output_type": "stream",
     "text": [
      "Requirement already satisfied: pdfminer.six in c:\\users\\sruja\\anaconda3\\lib\\site-packages (20250327)\n",
      "Requirement already satisfied: charset-normalizer>=2.0.0 in c:\\users\\sruja\\anaconda3\\lib\\site-packages (from pdfminer.six) (3.3.2)\n",
      "Requirement already satisfied: cryptography>=36.0.0 in c:\\users\\sruja\\anaconda3\\lib\\site-packages (from pdfminer.six) (43.0.0)\n",
      "Requirement already satisfied: cffi>=1.12 in c:\\users\\sruja\\anaconda3\\lib\\site-packages (from cryptography>=36.0.0->pdfminer.six) (1.17.1)\n",
      "Requirement already satisfied: pycparser in c:\\users\\sruja\\anaconda3\\lib\\site-packages (from cffi>=1.12->cryptography>=36.0.0->pdfminer.six) (2.21)\n",
      "Note: you may need to restart the kernel to use updated packages.\n"
     ]
    }
   ],
   "source": [
    "pip install pdfminer.six"
   ]
  },
  {
   "cell_type": "code",
   "execution_count": 51,
   "id": "3d26c6c3-aed6-447b-8bc4-e285f151dc44",
   "metadata": {
    "scrolled": true
   },
   "outputs": [
    {
     "name": "stdout",
     "output_type": "stream",
     "text": [
      "Requirement already satisfied: pymupdf in c:\\users\\sruja\\anaconda3\\lib\\site-packages (1.25.5)\n",
      "Note: you may need to restart the kernel to use updated packages.\n"
     ]
    }
   ],
   "source": [
    "pip install pymupdf"
   ]
  },
  {
   "cell_type": "code",
   "execution_count": 52,
   "id": "ef239acf-bff7-48b5-a252-398a9afb5921",
   "metadata": {},
   "outputs": [
    {
     "name": "stdout",
     "output_type": "stream",
     "text": [
      "Total characters: 50260\n"
     ]
    }
   ],
   "source": [
    "import fitz  # PyMuPDF\n",
    "import requests\n",
    "from io import BytesIO\n",
    "\n",
    "# URL of the PDF\n",
    "pdf_url = \"https://raw.githubusercontent.com/SrujanaSirimala/Ebook/main/A%20World%20is%20Born.pdf\"\n",
    "\n",
    "# Download the PDF\n",
    "response = requests.get(pdf_url)\n",
    "pdf_data = BytesIO(response.content)\n",
    "\n",
    "# Open the PDF with PyMuPDF (using file-like object)\n",
    "doc = fitz.open(stream=pdf_data)\n",
    "\n",
    "# Extract text from each page\n",
    "text = \"\"\n",
    "for page_num in range(doc.page_count):\n",
    "    page = doc.load_page(page_num)  # Load page\n",
    "    text += page.get_text(\"text\")  # Extract text\n",
    "\n",
    "# Print the total number of characters\n",
    "print(f\"Total characters: {len(text)}\")"
   ]
  },
  {
   "cell_type": "code",
   "execution_count": 53,
   "id": "b1108d34-d236-4999-9237-0d7cdab88752",
   "metadata": {},
   "outputs": [
    {
     "name": "stdout",
     "output_type": "stream",
     "text": [
      "The first ripples of blue fire touched Dio's men. Bolts of it fastened on gun-\n",
      "butts, and knuckles. Men screamed and fell. Jill cried out as he tore silver or-\n",
      "naments from her dress. \n",
      " \n",
      " \n",
      "A WORLD IS BORN  \n",
      " \n",
      "By Leigh Brackett \n",
      " \n",
      " \n",
      " \n",
      "Ebooks Corporation Limited\n"
     ]
    }
   ],
   "source": [
    "print(docs[0].page_content[:500])"
   ]
  },
  {
   "cell_type": "code",
   "execution_count": 54,
   "id": "46660bc0-8ca3-4af8-9ab1-dd4cdd84d5f3",
   "metadata": {
    "scrolled": true
   },
   "outputs": [
    {
     "name": "stdout",
     "output_type": "stream",
     "text": [
      "Requirement already satisfied: langchain in c:\\users\\sruja\\anaconda3\\lib\\site-packages (0.3.23)\n",
      "Requirement already satisfied: langchain-core<1.0.0,>=0.3.51 in c:\\users\\sruja\\anaconda3\\lib\\site-packages (from langchain) (0.3.51)\n",
      "Requirement already satisfied: langchain-text-splitters<1.0.0,>=0.3.8 in c:\\users\\sruja\\anaconda3\\lib\\site-packages (from langchain) (0.3.8)\n",
      "Requirement already satisfied: langsmith<0.4,>=0.1.17 in c:\\users\\sruja\\anaconda3\\lib\\site-packages (from langchain) (0.3.23)\n",
      "Requirement already satisfied: pydantic<3.0.0,>=2.7.4 in c:\\users\\sruja\\anaconda3\\lib\\site-packages (from langchain) (2.11.3)\n",
      "Requirement already satisfied: SQLAlchemy<3,>=1.4 in c:\\users\\sruja\\anaconda3\\lib\\site-packages (from langchain) (2.0.34)\n",
      "Requirement already satisfied: requests<3,>=2 in c:\\users\\sruja\\anaconda3\\lib\\site-packages (from langchain) (2.32.3)\n",
      "Requirement already satisfied: PyYAML>=5.3 in c:\\users\\sruja\\anaconda3\\lib\\site-packages (from langchain) (6.0.1)\n",
      "Requirement already satisfied: tenacity!=8.4.0,<10.0.0,>=8.1.0 in c:\\users\\sruja\\anaconda3\\lib\\site-packages (from langchain-core<1.0.0,>=0.3.51->langchain) (8.2.3)\n",
      "Requirement already satisfied: jsonpatch<2.0,>=1.33 in c:\\users\\sruja\\anaconda3\\lib\\site-packages (from langchain-core<1.0.0,>=0.3.51->langchain) (1.33)\n",
      "Requirement already satisfied: packaging<25,>=23.2 in c:\\users\\sruja\\anaconda3\\lib\\site-packages (from langchain-core<1.0.0,>=0.3.51->langchain) (24.1)\n",
      "Requirement already satisfied: typing-extensions>=4.7 in c:\\users\\sruja\\anaconda3\\lib\\site-packages (from langchain-core<1.0.0,>=0.3.51->langchain) (4.13.2)\n",
      "Requirement already satisfied: httpx<1,>=0.23.0 in c:\\users\\sruja\\anaconda3\\lib\\site-packages (from langsmith<0.4,>=0.1.17->langchain) (0.27.0)\n",
      "Requirement already satisfied: orjson<4.0.0,>=3.9.14 in c:\\users\\sruja\\anaconda3\\lib\\site-packages (from langsmith<0.4,>=0.1.17->langchain) (3.10.16)\n",
      "Requirement already satisfied: requests-toolbelt<2.0.0,>=1.0.0 in c:\\users\\sruja\\anaconda3\\lib\\site-packages (from langsmith<0.4,>=0.1.17->langchain) (1.0.0)\n",
      "Requirement already satisfied: zstandard<0.24.0,>=0.23.0 in c:\\users\\sruja\\anaconda3\\lib\\site-packages (from langsmith<0.4,>=0.1.17->langchain) (0.23.0)\n",
      "Requirement already satisfied: annotated-types>=0.6.0 in c:\\users\\sruja\\anaconda3\\lib\\site-packages (from pydantic<3.0.0,>=2.7.4->langchain) (0.6.0)\n",
      "Requirement already satisfied: pydantic-core==2.33.1 in c:\\users\\sruja\\anaconda3\\lib\\site-packages (from pydantic<3.0.0,>=2.7.4->langchain) (2.33.1)\n",
      "Requirement already satisfied: typing-inspection>=0.4.0 in c:\\users\\sruja\\anaconda3\\lib\\site-packages (from pydantic<3.0.0,>=2.7.4->langchain) (0.4.0)\n",
      "Requirement already satisfied: charset-normalizer<4,>=2 in c:\\users\\sruja\\anaconda3\\lib\\site-packages (from requests<3,>=2->langchain) (3.3.2)\n",
      "Requirement already satisfied: idna<4,>=2.5 in c:\\users\\sruja\\anaconda3\\lib\\site-packages (from requests<3,>=2->langchain) (3.7)\n",
      "Requirement already satisfied: urllib3<3,>=1.21.1 in c:\\users\\sruja\\anaconda3\\lib\\site-packages (from requests<3,>=2->langchain) (2.2.3)\n",
      "Requirement already satisfied: certifi>=2017.4.17 in c:\\users\\sruja\\anaconda3\\lib\\site-packages (from requests<3,>=2->langchain) (2025.1.31)\n",
      "Requirement already satisfied: greenlet!=0.4.17 in c:\\users\\sruja\\anaconda3\\lib\\site-packages (from SQLAlchemy<3,>=1.4->langchain) (3.0.1)\n",
      "Requirement already satisfied: anyio in c:\\users\\sruja\\anaconda3\\lib\\site-packages (from httpx<1,>=0.23.0->langsmith<0.4,>=0.1.17->langchain) (4.2.0)\n",
      "Requirement already satisfied: httpcore==1.* in c:\\users\\sruja\\anaconda3\\lib\\site-packages (from httpx<1,>=0.23.0->langsmith<0.4,>=0.1.17->langchain) (1.0.2)\n",
      "Requirement already satisfied: sniffio in c:\\users\\sruja\\anaconda3\\lib\\site-packages (from httpx<1,>=0.23.0->langsmith<0.4,>=0.1.17->langchain) (1.3.0)\n",
      "Requirement already satisfied: h11<0.15,>=0.13 in c:\\users\\sruja\\anaconda3\\lib\\site-packages (from httpcore==1.*->httpx<1,>=0.23.0->langsmith<0.4,>=0.1.17->langchain) (0.14.0)\n",
      "Requirement already satisfied: jsonpointer>=1.9 in c:\\users\\sruja\\anaconda3\\lib\\site-packages (from jsonpatch<2.0,>=1.33->langchain-core<1.0.0,>=0.3.51->langchain) (2.1)\n",
      "Note: you may need to restart the kernel to use updated packages.\n"
     ]
    }
   ],
   "source": [
    "pip install --upgrade langchain"
   ]
  },
  {
   "cell_type": "code",
   "execution_count": 55,
   "id": "4c133abe-a729-4323-81bf-a890580d09a6",
   "metadata": {},
   "outputs": [
    {
     "name": "stdout",
     "output_type": "stream",
     "text": [
      "Split Ebook into 63 sub-documents.\n"
     ]
    }
   ],
   "source": [
    "# Assuming 'text' contains all the extracted content from the PDF\n",
    "\n",
    "chunk_size = 1000\n",
    "chunk_overlap = 200\n",
    "\n",
    "# Create chunks with overlap\n",
    "chunks = []\n",
    "start = 0\n",
    "while start < len(text):\n",
    "    end = start + chunk_size\n",
    "    chunks.append(text[start:end])\n",
    "    start = end - chunk_overlap\n",
    "\n",
    "# Print the result\n",
    "print(f\"Split Ebook into {len(chunks)} sub-documents.\")"
   ]
  },
  {
   "cell_type": "code",
   "execution_count": 70,
   "id": "4ff528ce-f8fa-4b58-b2d4-bc6e144842a7",
   "metadata": {},
   "outputs": [
    {
     "name": "stdout",
     "output_type": "stream",
     "text": [
      "Number of chunks: 63\n",
      "First chunk preview:  \n",
      " \n",
      "The first ripples of blue fire touched Dio's men. Bolts of it fastened on gun-\n",
      "butts, and knuckles. Men screamed and fell. Jill cried out as he tore silver or-\n",
      "naments from her dress. \n",
      " \n",
      " \n",
      "A WORLD\n",
      "First 3 document IDs added: ['3288a7ce-f295-49c1-b34e-9b98b90a873b', '7d38df9a-ae8e-479e-a7c9-1c8ad3259179', 'f08c9486-f755-4709-908f-e00fcc822c79']\n"
     ]
    }
   ],
   "source": [
    "from langchain.vectorstores import FAISS\n",
    "from langchain.embeddings import OpenAIEmbeddings\n",
    "from langchain.schema import Document\n",
    "\n",
    "# Assuming 'text' contains the extracted content from the PDF (string type)\n",
    "\n",
    "# Define your chunk size and overlap\n",
    "chunk_size = 1000  # Characters per chunk\n",
    "chunk_overlap = 200  # Characters to overlap between chunks\n",
    "\n",
    "# Step 1: Manually split the text into chunks with overlap\n",
    "chunks = []\n",
    "start = 0\n",
    "\n",
    "# Loop through the text and split it into chunks\n",
    "while start < len(text):\n",
    "    end = start + chunk_size\n",
    "    chunk = text[start:end]\n",
    "    chunks.append(chunk)\n",
    "    start = end - chunk_overlap  # Move the start position to introduce overlap\n",
    "\n",
    "# Check how many chunks were created and preview the first chunk\n",
    "print(f\"Number of chunks: {len(chunks)}\")\n",
    "print(f\"First chunk preview: {chunks[0][:200]}\")  # Preview the first 200 characters\n",
    "\n",
    "# Step 2: Convert chunks into Document objects\n",
    "documents = [Document(page_content=chunk) for chunk in chunks]\n",
    "\n",
    "# Step 3: Generate embeddings for each chunk\n",
    "embeddings = OpenAIEmbeddings()\n",
    "\n",
    "# Get embeddings for all documents (note: FAISS will handle this internally when initializing)\n",
    "vector_store = FAISS.from_documents(documents, embeddings)\n",
    "\n",
    "# Step 4: Add documents to vector store (this happens internally when calling from_documents)\n",
    "document_ids = vector_store.add_documents(documents=documents)\n",
    "\n",
    "# Print the first 3 document IDs added to the vector store\n",
    "print(f\"First 3 document IDs added: {document_ids[:3]}\")"
   ]
  },
  {
   "cell_type": "code",
   "execution_count": 71,
   "id": "0dc567b4-db58-40a7-a88f-abb8db51c24e",
   "metadata": {},
   "outputs": [
    {
     "name": "stdout",
     "output_type": "stream",
     "text": [
      "You are an assistant for question-answering tasks. Use the following pieces of retrieved context to answer the question. If you don't know the answer, just say that you don't know. Use three sentences maximum and keep the answer concise.\n",
      "Question: question goes here \n",
      "Context: context goes here \n",
      "Answer:\n"
     ]
    }
   ],
   "source": [
    "# Retrieval and Generation {#orchestration}\n",
    "from langchain import hub\n",
    "\n",
    "prompt = hub.pull(\"rlm/rag-prompt\")\n",
    "\n",
    "example_messages = prompt.invoke(\n",
    "    {\n",
    "        \"context\": \"context goes here\",\n",
    "        \"question\": \"question goes here\"\n",
    "    }\n",
    ").to_messages()\n",
    "\n",
    "print(example_messages[0].content)"
   ]
  },
  {
   "cell_type": "code",
   "execution_count": 74,
   "id": "ff108cff-7105-4114-ba4b-59ea20d63ab2",
   "metadata": {},
   "outputs": [],
   "source": [
    "# To use LangGraph, we need to define three things:\n",
    "\n",
    "# The state of our application;\n",
    "# The nodes of our application (i.e., application steps);\n",
    "# The \"control flow\" of our application (e.g., the ordering of the steps).\n",
    "\n",
    "from langchain_core.documents import Document\n",
    "from typing_extensions import List, TypedDict\n",
    "\n",
    "\n",
    "class State(TypedDict):\n",
    "    question: str\n",
    "    context: List[Document]\n",
    "    answer: str"
   ]
  },
  {
   "cell_type": "code",
   "execution_count": 76,
   "id": "6150de91-5d02-4a6b-88d6-d53778d3cb53",
   "metadata": {},
   "outputs": [],
   "source": [
    "# Nodes (application steps)\n",
    "def retrieve(state: State):\n",
    "    retrieved_docs = vector_store.similarity_search(state[\"question\"])\n",
    "    return {\"context\": retrieved_docs}\n",
    "\n",
    "\n",
    "def generate(state: State):\n",
    "    docs_content = \"\\n\\n\".join(doc.page_content for doc in state[\"context\"])\n",
    "    messages = prompt.invoke({\"question\": state[\"question\"], \"context\": docs_content})\n",
    "    response = llm.invoke(messages)\n",
    "    return {\"answer\": response.content}"
   ]
  },
  {
   "cell_type": "code",
   "execution_count": 78,
   "id": "cd312178-ff45-4a5d-b0e1-bc4e9906384f",
   "metadata": {},
   "outputs": [],
   "source": [
    "from langgraph.graph import START, StateGraph\n",
    "\n",
    "graph_builder = StateGraph(State).add_sequence([retrieve, generate])\n",
    "graph_builder.add_edge(START, \"retrieve\")\n",
    "graph = graph_builder.compile()"
   ]
  },
  {
   "cell_type": "code",
   "execution_count": 80,
   "id": "cb87e1fd-a09a-4691-af63-514317c0791f",
   "metadata": {
    "scrolled": true
   },
   "outputs": [
    {
     "data": {
      "image/png": "[encoded data removed]",
      "text/plain": [
       "<IPython.core.display.Image object>"
      ]
     },
     "metadata": {},
     "output_type": "display_data"
    }
   ],
   "source": [
    "from IPython.display import Image, display\n",
    "\n",
    "display(Image(graph.get_graph().draw_mermaid_png()))\n"
   ]
  },
  {
   "cell_type": "code",
   "execution_count": 82,
   "id": "78dc43a2-9512-434d-9e42-58dbe946590d",
   "metadata": {
    "scrolled": true
   },
   "outputs": [
    {
     "name": "stdout",
     "output_type": "stream",
     "text": [
      "Context: [Document(id='ed5d04ff-bec7-4e14-8133-cb008887baa5', metadata={}, page_content='e looked aside at the stony-faced girl beside him. She was \\nstudying him contemptuously out of hard gray eyes. \\n\"How,\" she said slowly, \"can you be such a callous swine?\" \\n\"Callous?\" He controlled the quite unreasonable anger that \\nrose in him. \"Not at all. The war taught me that if I didn\\'t look \\nout for myself, no one would.\" \\n\"And yet you must have started out a human being.\" \\nHe laughed. \\nThe ship burst into searing sunlight. The Sunside of Mercury \\nblazed below them. Out toward the velvet dark of space the \\nside of a waiting ship flashed burning silver. \\nEven as he watched, the flare of its rockets arced against the \\nblackness. They had been sighted. \\n \\n \\n18 \\n \\nGray\\'s practised eye gauged the stranger\\'s speed against his \\nown, and he cursed softly. Abruptly he wheeled the ship and \\nstarted down again, cutting his rockets as the shadow swal-\\nlowed them. The ship was eerily silent, dropping with a rising \\nscream as the atmosphere touched the hull. \\n\"What are you going to do?\" asked '), Document(id='c7670332-ecf0-4642-b2e8-ccff1523d694', metadata={}, page_content='e looked aside at the stony-faced girl beside him. She was \\nstudying him contemptuously out of hard gray eyes. \\n\"How,\" she said slowly, \"can you be such a callous swine?\" \\n\"Callous?\" He controlled the quite unreasonable anger that \\nrose in him. \"Not at all. The war taught me that if I didn\\'t look \\nout for myself, no one would.\" \\n\"And yet you must have started out a human being.\" \\nHe laughed. \\nThe ship burst into searing sunlight. The Sunside of Mercury \\nblazed below them. Out toward the velvet dark of space the \\nside of a waiting ship flashed burning silver. \\nEven as he watched, the flare of its rockets arced against the \\nblackness. They had been sighted. \\n \\n \\n18 \\n \\nGray\\'s practised eye gauged the stranger\\'s speed against his \\nown, and he cursed softly. Abruptly he wheeled the ship and \\nstarted down again, cutting his rockets as the shadow swal-\\nlowed them. The ship was eerily silent, dropping with a rising \\nscream as the atmosphere touched the hull. \\n\"What are you going to do?\" asked '), Document(id='4435efa5-4f7b-4fc1-a876-c45c370e788d', metadata={}, page_content='e sank to a slow \\ndrawl. \\n\"I don\\'t like being a pawn in somebody else\\'s chess game.\" \\n\"Okay, okay! It ain\\'t my fault. Lemme go.\" Ward rubbed his \\nbruised wrist. \"Sure, somebody—I ain\\'t sayin\\' who—sent you \\nhere, knowin\\' you\\'d want to escape. I\\'m here to help you. You \\nget free, I get paid, the Big Boy gets what he wants. Okay?\" \\nGray was silent, scowling in the darkness. Then he said. \\n\"All right. I\\'ll take a chance.\" \\n\"Then listen. You tell Moulton you have a complaint. I\\'ll....\" \\n \\n10 \\n \\nLight flooded the dark as the door clanged open. Ward leaped \\nlike a startled rabbit, but the light speared him, held him. \\nWard felt a pulse of excitement beat up in him. \\nThe long ominous shadows of the guards raised elongated \\nguns. The barracks stirred and muttered, like a vast aviary \\nwaking. \\n\"Ward and Gray,\" said one of the guards. \"Moulton wants \\nyou.\" \\nGray rose from his bunk with the lithe, delicate grace of a cat. \\nThe monotony of sleep and labor was ended. Something had \\nbroken. Life was '), Document(id='323a208a-a10d-48e3-aab3-ea90c865f515', metadata={}, page_content='e sank to a slow \\ndrawl. \\n\"I don\\'t like being a pawn in somebody else\\'s chess game.\" \\n\"Okay, okay! It ain\\'t my fault. Lemme go.\" Ward rubbed his \\nbruised wrist. \"Sure, somebody—I ain\\'t sayin\\' who—sent you \\nhere, knowin\\' you\\'d want to escape. I\\'m here to help you. You \\nget free, I get paid, the Big Boy gets what he wants. Okay?\" \\nGray was silent, scowling in the darkness. Then he said. \\n\"All right. I\\'ll take a chance.\" \\n\"Then listen. You tell Moulton you have a complaint. I\\'ll....\" \\n \\n10 \\n \\nLight flooded the dark as the door clanged open. Ward leaped \\nlike a startled rabbit, but the light speared him, held him. \\nWard felt a pulse of excitement beat up in him. \\nThe long ominous shadows of the guards raised elongated \\nguns. The barracks stirred and muttered, like a vast aviary \\nwaking. \\n\"Ward and Gray,\" said one of the guards. \"Moulton wants \\nyou.\" \\nGray rose from his bunk with the lithe, delicate grace of a cat. \\nThe monotony of sleep and labor was ended. Something had \\nbroken. Life was ')]\n",
      "\n",
      "\n",
      "Answer: The story revolves around a protagonist who learned to be self-reliant due to the lessons of war. He encounters challenges and makes decisions to navigate through uncertain situations. The narrative blends themes of survival, relationships, and moral dilemmas in a futuristic setting.\n"
     ]
    }
   ],
   "source": [
    "# Usage\n",
    "result = graph.invoke({\"question\": \"What is the story about?\"})\n",
    "\n",
    "print(f'Context: {result[\"context\"]}\\n\\n')\n",
    "print(f'Answer: {result[\"answer\"]}')"
   ]
  },
  {
   "cell_type": "code",
   "execution_count": 84,
   "id": "c43cf805-d252-467f-97a2-dd350cde964e",
   "metadata": {
    "scrolled": true
   },
   "outputs": [
    {
     "name": "stdout",
     "output_type": "stream",
     "text": [
      "{'retrieve': {'context': [Document(id='ed5d04ff-bec7-4e14-8133-cb008887baa5', metadata={}, page_content='e looked aside at the stony-faced girl beside him. She was \\nstudying him contemptuously out of hard gray eyes. \\n\"How,\" she said slowly, \"can you be such a callous swine?\" \\n\"Callous?\" He controlled the quite unreasonable anger that \\nrose in him. \"Not at all. The war taught me that if I didn\\'t look \\nout for myself, no one would.\" \\n\"And yet you must have started out a human being.\" \\nHe laughed. \\nThe ship burst into searing sunlight. The Sunside of Mercury \\nblazed below them. Out toward the velvet dark of space the \\nside of a waiting ship flashed burning silver. \\nEven as he watched, the flare of its rockets arced against the \\nblackness. They had been sighted. \\n \\n \\n18 \\n \\nGray\\'s practised eye gauged the stranger\\'s speed against his \\nown, and he cursed softly. Abruptly he wheeled the ship and \\nstarted down again, cutting his rockets as the shadow swal-\\nlowed them. The ship was eerily silent, dropping with a rising \\nscream as the atmosphere touched the hull. \\n\"What are you going to do?\" asked '), Document(id='c7670332-ecf0-4642-b2e8-ccff1523d694', metadata={}, page_content='e looked aside at the stony-faced girl beside him. She was \\nstudying him contemptuously out of hard gray eyes. \\n\"How,\" she said slowly, \"can you be such a callous swine?\" \\n\"Callous?\" He controlled the quite unreasonable anger that \\nrose in him. \"Not at all. The war taught me that if I didn\\'t look \\nout for myself, no one would.\" \\n\"And yet you must have started out a human being.\" \\nHe laughed. \\nThe ship burst into searing sunlight. The Sunside of Mercury \\nblazed below them. Out toward the velvet dark of space the \\nside of a waiting ship flashed burning silver. \\nEven as he watched, the flare of its rockets arced against the \\nblackness. They had been sighted. \\n \\n \\n18 \\n \\nGray\\'s practised eye gauged the stranger\\'s speed against his \\nown, and he cursed softly. Abruptly he wheeled the ship and \\nstarted down again, cutting his rockets as the shadow swal-\\nlowed them. The ship was eerily silent, dropping with a rising \\nscream as the atmosphere touched the hull. \\n\"What are you going to do?\" asked '), Document(id='4435efa5-4f7b-4fc1-a876-c45c370e788d', metadata={}, page_content='e sank to a slow \\ndrawl. \\n\"I don\\'t like being a pawn in somebody else\\'s chess game.\" \\n\"Okay, okay! It ain\\'t my fault. Lemme go.\" Ward rubbed his \\nbruised wrist. \"Sure, somebody—I ain\\'t sayin\\' who—sent you \\nhere, knowin\\' you\\'d want to escape. I\\'m here to help you. You \\nget free, I get paid, the Big Boy gets what he wants. Okay?\" \\nGray was silent, scowling in the darkness. Then he said. \\n\"All right. I\\'ll take a chance.\" \\n\"Then listen. You tell Moulton you have a complaint. I\\'ll....\" \\n \\n10 \\n \\nLight flooded the dark as the door clanged open. Ward leaped \\nlike a startled rabbit, but the light speared him, held him. \\nWard felt a pulse of excitement beat up in him. \\nThe long ominous shadows of the guards raised elongated \\nguns. The barracks stirred and muttered, like a vast aviary \\nwaking. \\n\"Ward and Gray,\" said one of the guards. \"Moulton wants \\nyou.\" \\nGray rose from his bunk with the lithe, delicate grace of a cat. \\nThe monotony of sleep and labor was ended. Something had \\nbroken. Life was '), Document(id='323a208a-a10d-48e3-aab3-ea90c865f515', metadata={}, page_content='e sank to a slow \\ndrawl. \\n\"I don\\'t like being a pawn in somebody else\\'s chess game.\" \\n\"Okay, okay! It ain\\'t my fault. Lemme go.\" Ward rubbed his \\nbruised wrist. \"Sure, somebody—I ain\\'t sayin\\' who—sent you \\nhere, knowin\\' you\\'d want to escape. I\\'m here to help you. You \\nget free, I get paid, the Big Boy gets what he wants. Okay?\" \\nGray was silent, scowling in the darkness. Then he said. \\n\"All right. I\\'ll take a chance.\" \\n\"Then listen. You tell Moulton you have a complaint. I\\'ll....\" \\n \\n10 \\n \\nLight flooded the dark as the door clanged open. Ward leaped \\nlike a startled rabbit, but the light speared him, held him. \\nWard felt a pulse of excitement beat up in him. \\nThe long ominous shadows of the guards raised elongated \\nguns. The barracks stirred and muttered, like a vast aviary \\nwaking. \\n\"Ward and Gray,\" said one of the guards. \"Moulton wants \\nyou.\" \\nGray rose from his bunk with the lithe, delicate grace of a cat. \\nThe monotony of sleep and labor was ended. Something had \\nbroken. Life was ')]}}\n",
      "\n",
      "----------------\n",
      "\n",
      "{'generate': {'answer': \"The story revolves around a man named Gray who is involved in a chess game of pawns, leading to escape plans and a chance-taking decision. Gray is seen navigating through the shadows and barracks, suggesting a twist in monotony and shift in life's direction. The plot hints at Gray's journey from being a mere pawn to pursuing freedom and taking risks.\"}}\n",
      "\n",
      "----------------\n",
      "\n"
     ]
    }
   ],
   "source": [
    "# Stream steps:\n",
    "for step in graph.stream(\n",
    "    {\"question\": \"What is the story about?\"}, stream_mode=\"updates\"\n",
    "):\n",
    "    print(f\"{step}\\n\\n----------------\\n\")"
   ]
  },
  {
   "cell_type": "code",
   "execution_count": 85,
   "id": "7996f3a8-1903-4e08-bb98-d5ea5a29a66b",
   "metadata": {},
   "outputs": [
    {
     "name": "stdout",
     "output_type": "stream",
     "text": [
      "|The| story| revolves| around| Gray| and| Ward|,| who| are| involved| in| dangerous| and| clandest|ine| situations| on| a| spaceship|.| Gray| appears| to| be| a| survivor| of| war|,| motivated| by| self|-p|reservation|,| while| Ward| seems| to| be| aiding| Gray| in| a| scheme| for| personal| gain|.| Their| interactions| are| filled| with| tension| and| intrigue|,| leading| to| unexpected| twists| and| turns| in| their| journey|.||"
     ]
    }
   ],
   "source": [
    "for message, metadata in graph.stream(\n",
    "    {\"question\": \"What is the story about?\"}, stream_mode=\"messages\"\n",
    "):\n",
    "    print(message.content, end=\"|\")"
   ]
  },
  {
   "cell_type": "code",
   "execution_count": 88,
   "id": "1cd14a9c-a744-40e1-9fd2-4de341509afd",
   "metadata": {},
   "outputs": [],
   "source": [
    "from langchain_core.prompts import PromptTemplate\n",
    "\n",
    "template = \"\"\"Use the following pieces of context to answer the question at the end.\n",
    "If you don't know the answer, just say that you don't know, don't try to make up an answer.\n",
    "Use three sentences maximum and keep the answer as concise as possible.\n",
    "Always say \"thanks for asking!\" at the end of the answer.\n",
    "\n",
    "{context}\n",
    "\n",
    "Question: {question}\n",
    "\n",
    "Helpful Answer:\"\"\"\n",
    "custom_rag_prompt = PromptTemplate.from_template(template)"
   ]
  },
  {
   "cell_type": "code",
   "execution_count": 90,
   "id": "ceff6760-e5ad-46df-a625-2f32c26ccb9f",
   "metadata": {},
   "outputs": [
    {
     "name": "stdout",
     "output_type": "stream",
     "text": [
      "all_splits has 85 documents.\n"
     ]
    }
   ],
   "source": [
    "# Check if all_splits is not empty\n",
    "if len(all_splits) == 0:\n",
    "    print(\"all_splits is empty!\")\n",
    "else:\n",
    "    print(f\"all_splits has {len(all_splits)} documents.\")\n"
   ]
  },
  {
   "cell_type": "code",
   "execution_count": 92,
   "id": "95cc5a68-ee5b-4560-9168-ae4b241db577",
   "metadata": {},
   "outputs": [
    {
     "data": {
      "text/plain": [
       "{'producer': 'Adobe PDF Library 9.0',\n",
       " 'creator': 'Acrobat PDFMaker 9.0 for Word',\n",
       " 'creationdate': '2010-07-01T14:20:01+07:00',\n",
       " 'author': 'kindalat',\n",
       " 'moddate': '2010-07-19T11:52:40-04:00',\n",
       " 'sourcemodified': 'D:20100701071952',\n",
       " 'source': 'C:\\\\Users\\\\sruja\\\\AppData\\\\Local\\\\Temp\\\\tmpxbgu_0we\\\\ebook.pdf',\n",
       " 'total_pages': 43,\n",
       " 'page': 0,\n",
       " 'page_label': '',\n",
       " 'section': 'beginning'}"
      ]
     },
     "execution_count": 92,
     "metadata": {},
     "output_type": "execute_result"
    }
   ],
   "source": [
    "total_documents = len(all_splits)\n",
    "third = total_documents // 3\n",
    "\n",
    "for i, document in enumerate(all_splits):\n",
    "    if i < third:\n",
    "        document.metadata[\"section\"] = \"beginning\"\n",
    "    elif i < 2 * third:\n",
    "        document.metadata[\"section\"] = \"middle\"\n",
    "    else:\n",
    "        document.metadata[\"section\"] = \"end\"\n",
    "\n",
    "\n",
    "all_splits[0].metadata"
   ]
  },
  {
   "cell_type": "code",
   "execution_count": 94,
   "id": "019a882a-cee1-454b-9fb8-6572c3276c5f",
   "metadata": {},
   "outputs": [],
   "source": [
    "from langchain_core.vectorstores import InMemoryVectorStore\n",
    "\n",
    "vector_store = InMemoryVectorStore(embeddings)\n",
    "_ = vector_store.add_documents(all_splits)"
   ]
  },
  {
   "cell_type": "code",
   "execution_count": 96,
   "id": "9d968d9b-baad-430b-86eb-20c58e9e8c10",
   "metadata": {},
   "outputs": [],
   "source": [
    "from typing import Literal\n",
    "\n",
    "from typing_extensions import Annotated\n",
    "\n",
    "\n",
    "class Search(TypedDict):\n",
    "    \"\"\"Search query.\"\"\"\n",
    "\n",
    "    query: Annotated[str, ..., \"Search query to run.\"]\n",
    "    section: Annotated[\n",
    "        Literal[\"beginning\", \"middle\", \"end\"],\n",
    "        ...,\n",
    "        \"Section to query.\",\n",
    "    ]"
   ]
  },
  {
   "cell_type": "code",
   "execution_count": 98,
   "id": "c7493c51-8d34-4e9b-aa2a-ad2cf0385c74",
   "metadata": {},
   "outputs": [],
   "source": [
    "class State(TypedDict):\n",
    "    question: str\n",
    "    query: Search\n",
    "    context: List[Document]\n",
    "    answer: str\n",
    "\n",
    "\n",
    "def analyze_query(state: State):\n",
    "    structured_llm = llm.with_structured_output(Search)\n",
    "    query = structured_llm.invoke(state[\"question\"])\n",
    "    return {\"query\": query}\n",
    "\n",
    "\n",
    "def retrieve(state: State):\n",
    "    query = state[\"query\"]\n",
    "    retrieved_docs = vector_store.similarity_search(\n",
    "        query[\"query\"],\n",
    "        filter=lambda doc: doc.metadata.get(\"section\") == query[\"section\"],\n",
    "    )\n",
    "    return {\"context\": retrieved_docs}\n",
    "\n",
    "\n",
    "def generate(state: State):\n",
    "    docs_content = \"\\n\\n\".join(doc.page_content for doc in state[\"context\"])\n",
    "    messages = prompt.invoke({\"question\": state[\"question\"], \"context\": docs_content})\n",
    "    response = llm.invoke(messages)\n",
    "    return {\"answer\": response.content}\n",
    "\n",
    "\n",
    "graph_builder = StateGraph(State).add_sequence([analyze_query, retrieve, generate])\n",
    "graph_builder.add_edge(START, \"analyze_query\")\n",
    "graph = graph_builder.compile()"
   ]
  },
  {
   "cell_type": "code",
   "execution_count": 100,
   "id": "b5ad9c43-b384-49c0-a368-924d2d0fc3f9",
   "metadata": {},
   "outputs": [
    {
     "data": {
      "image/png": "[encoded data removed]",
      "text/plain": [
       "<IPython.core.display.Image object>"
      ]
     },
     "metadata": {},
     "output_type": "display_data"
    }
   ],
   "source": [
    "display(Image(graph.get_graph().draw_mermaid_png()))"
   ]
  },
  {
   "cell_type": "code",
   "execution_count": null,
   "id": "1ca9d5fe-1c1e-4d2b-8bfa-e96afa6c1dab",
   "metadata": {},
   "outputs": [
    {
     "name": "stderr",
     "output_type": "stream",
     "text": [
      "C:\\Users\\sruja\\anaconda3\\Lib\\site-packages\\langchain_openai\\chat_models\\base.py:1637: UserWarning: Cannot use method='json_schema' with model gpt-3.5-turbo since it doesn't support OpenAI's Structured Output API. You can see supported models here: https://platform.openai.com/docs/guides/structured-outputs#supported-models. To fix this warning, set `method='function_calling'. Overriding to method='function_calling'.\n",
      "  warnings.warn(\n"
     ]
    },
    {
     "name": "stdout",
     "output_type": "stream",
     "text": [
      "{'analyze_query': {'query': {'query': 'end of the story', 'section': 'end'}}}\n",
      "\n",
      "----------------\n",
      "\n"
     ]
    }
   ],
   "source": [
    "for step in graph.stream(\n",
    "    {\"question\": \"What happens at the end of the story?\"},\n",
    "    stream_mode=\"updates\",\n",
    "):\n",
    "    print(f\"{step}\\n\\n----------------\\n\")"
   ]
  }
 ],
 "metadata": {
  "kernelspec": {
   "display_name": "Python [conda env:base] *",
   "language": "python",
   "name": "conda-base-py"
  },
  "language_info": {
   "codemirror_mode": {
    "name": "ipython",
    "version": 3
   },
   "file_extension": ".py",
   "mimetype": "text/x-python",
   "name": "python",
   "nbconvert_exporter": "python",
   "pygments_lexer": "ipython3",
   "version": "3.12.7"
  }
 },
 "nbformat": 4,
 "nbformat_minor": 5
}
